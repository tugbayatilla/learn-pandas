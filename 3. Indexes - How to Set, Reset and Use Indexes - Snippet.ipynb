{
 "cells": [
  {
   "cell_type": "markdown",
   "id": "5d8aca76",
   "metadata": {},
   "source": [
    "Build Custom Indexes -  Snippet"
   ]
  },
  {
   "cell_type": "markdown",
   "id": "738924e4",
   "metadata": {},
   "source": [
    "https://www.youtube.com/watch?v=W9XjRYFkkyw"
   ]
  },
  {
   "cell_type": "code",
   "execution_count": 1,
   "id": "ec673214",
   "metadata": {},
   "outputs": [],
   "source": [
    "people = {\n",
    "    \"first\":[\"tugbay\", \"kathi\", \"leni\"],\n",
    "    \"last\":[\"atilla\", \"essmann\", \"essmann\"],\n",
    "    \"email\":[\"tugbayatilla@gmail.com\", \"katharina@essmann.de\", \"leni@essmann.com\"]\n",
    "}"
   ]
  },
  {
   "cell_type": "code",
   "execution_count": 2,
   "id": "c6f9fc99",
   "metadata": {},
   "outputs": [],
   "source": [
    "import pandas as pd"
   ]
  },
  {
   "cell_type": "code",
   "execution_count": 3,
   "id": "24a77127",
   "metadata": {},
   "outputs": [],
   "source": [
    "df = pd.DataFrame(people)"
   ]
  },
  {
   "cell_type": "code",
   "execution_count": 4,
   "id": "5f536550",
   "metadata": {},
   "outputs": [
    {
     "data": {
      "text/html": [
       "<div>\n",
       "<style scoped>\n",
       "    .dataframe tbody tr th:only-of-type {\n",
       "        vertical-align: middle;\n",
       "    }\n",
       "\n",
       "    .dataframe tbody tr th {\n",
       "        vertical-align: top;\n",
       "    }\n",
       "\n",
       "    .dataframe thead th {\n",
       "        text-align: right;\n",
       "    }\n",
       "</style>\n",
       "<table border=\"1\" class=\"dataframe\">\n",
       "  <thead>\n",
       "    <tr style=\"text-align: right;\">\n",
       "      <th></th>\n",
       "      <th>first</th>\n",
       "      <th>last</th>\n",
       "      <th>email</th>\n",
       "    </tr>\n",
       "  </thead>\n",
       "  <tbody>\n",
       "    <tr>\n",
       "      <th>0</th>\n",
       "      <td>tugbay</td>\n",
       "      <td>atilla</td>\n",
       "      <td>tugbayatilla@gmail.com</td>\n",
       "    </tr>\n",
       "    <tr>\n",
       "      <th>1</th>\n",
       "      <td>kathi</td>\n",
       "      <td>essmann</td>\n",
       "      <td>katharina@essmann.de</td>\n",
       "    </tr>\n",
       "    <tr>\n",
       "      <th>2</th>\n",
       "      <td>leni</td>\n",
       "      <td>essmann</td>\n",
       "      <td>leni@essmann.com</td>\n",
       "    </tr>\n",
       "  </tbody>\n",
       "</table>\n",
       "</div>"
      ],
      "text/plain": [
       "    first     last                   email\n",
       "0  tugbay   atilla  tugbayatilla@gmail.com\n",
       "1   kathi  essmann    katharina@essmann.de\n",
       "2    leni  essmann        leni@essmann.com"
      ]
     },
     "execution_count": 4,
     "metadata": {},
     "output_type": "execute_result"
    }
   ],
   "source": [
    "df"
   ]
  },
  {
   "cell_type": "code",
   "execution_count": 5,
   "id": "147175b7",
   "metadata": {},
   "outputs": [
    {
     "data": {
      "text/plain": [
       "0    tugbayatilla@gmail.com\n",
       "1      katharina@essmann.de\n",
       "2          leni@essmann.com\n",
       "Name: email, dtype: object"
      ]
     },
     "execution_count": 5,
     "metadata": {},
     "output_type": "execute_result"
    }
   ],
   "source": [
    "df['email']"
   ]
  },
  {
   "cell_type": "code",
   "execution_count": 6,
   "id": "57955642",
   "metadata": {},
   "outputs": [
    {
     "data": {
      "text/html": [
       "<div>\n",
       "<style scoped>\n",
       "    .dataframe tbody tr th:only-of-type {\n",
       "        vertical-align: middle;\n",
       "    }\n",
       "\n",
       "    .dataframe tbody tr th {\n",
       "        vertical-align: top;\n",
       "    }\n",
       "\n",
       "    .dataframe thead th {\n",
       "        text-align: right;\n",
       "    }\n",
       "</style>\n",
       "<table border=\"1\" class=\"dataframe\">\n",
       "  <thead>\n",
       "    <tr style=\"text-align: right;\">\n",
       "      <th></th>\n",
       "      <th>first</th>\n",
       "      <th>last</th>\n",
       "    </tr>\n",
       "    <tr>\n",
       "      <th>email</th>\n",
       "      <th></th>\n",
       "      <th></th>\n",
       "    </tr>\n",
       "  </thead>\n",
       "  <tbody>\n",
       "    <tr>\n",
       "      <th>tugbayatilla@gmail.com</th>\n",
       "      <td>tugbay</td>\n",
       "      <td>atilla</td>\n",
       "    </tr>\n",
       "    <tr>\n",
       "      <th>katharina@essmann.de</th>\n",
       "      <td>kathi</td>\n",
       "      <td>essmann</td>\n",
       "    </tr>\n",
       "    <tr>\n",
       "      <th>leni@essmann.com</th>\n",
       "      <td>leni</td>\n",
       "      <td>essmann</td>\n",
       "    </tr>\n",
       "  </tbody>\n",
       "</table>\n",
       "</div>"
      ],
      "text/plain": [
       "                         first     last\n",
       "email                                  \n",
       "tugbayatilla@gmail.com  tugbay   atilla\n",
       "katharina@essmann.de     kathi  essmann\n",
       "leni@essmann.com          leni  essmann"
      ]
     },
     "execution_count": 6,
     "metadata": {},
     "output_type": "execute_result"
    }
   ],
   "source": [
    "# setting index, df is not changed because we did not say inplace true\n",
    "df.set_index('email')"
   ]
  },
  {
   "cell_type": "code",
   "execution_count": 7,
   "id": "3828c24f",
   "metadata": {},
   "outputs": [
    {
     "data": {
      "text/html": [
       "<div>\n",
       "<style scoped>\n",
       "    .dataframe tbody tr th:only-of-type {\n",
       "        vertical-align: middle;\n",
       "    }\n",
       "\n",
       "    .dataframe tbody tr th {\n",
       "        vertical-align: top;\n",
       "    }\n",
       "\n",
       "    .dataframe thead th {\n",
       "        text-align: right;\n",
       "    }\n",
       "</style>\n",
       "<table border=\"1\" class=\"dataframe\">\n",
       "  <thead>\n",
       "    <tr style=\"text-align: right;\">\n",
       "      <th></th>\n",
       "      <th>first</th>\n",
       "      <th>last</th>\n",
       "      <th>email</th>\n",
       "    </tr>\n",
       "  </thead>\n",
       "  <tbody>\n",
       "    <tr>\n",
       "      <th>0</th>\n",
       "      <td>tugbay</td>\n",
       "      <td>atilla</td>\n",
       "      <td>tugbayatilla@gmail.com</td>\n",
       "    </tr>\n",
       "    <tr>\n",
       "      <th>1</th>\n",
       "      <td>kathi</td>\n",
       "      <td>essmann</td>\n",
       "      <td>katharina@essmann.de</td>\n",
       "    </tr>\n",
       "    <tr>\n",
       "      <th>2</th>\n",
       "      <td>leni</td>\n",
       "      <td>essmann</td>\n",
       "      <td>leni@essmann.com</td>\n",
       "    </tr>\n",
       "  </tbody>\n",
       "</table>\n",
       "</div>"
      ],
      "text/plain": [
       "    first     last                   email\n",
       "0  tugbay   atilla  tugbayatilla@gmail.com\n",
       "1   kathi  essmann    katharina@essmann.de\n",
       "2    leni  essmann        leni@essmann.com"
      ]
     },
     "execution_count": 7,
     "metadata": {},
     "output_type": "execute_result"
    }
   ],
   "source": [
    "# df is not changed\n",
    "df"
   ]
  },
  {
   "cell_type": "code",
   "execution_count": 8,
   "id": "dc9181df",
   "metadata": {},
   "outputs": [],
   "source": [
    "df.set_index('email', inplace=True)"
   ]
  },
  {
   "cell_type": "code",
   "execution_count": 9,
   "id": "54228190",
   "metadata": {},
   "outputs": [
    {
     "data": {
      "text/html": [
       "<div>\n",
       "<style scoped>\n",
       "    .dataframe tbody tr th:only-of-type {\n",
       "        vertical-align: middle;\n",
       "    }\n",
       "\n",
       "    .dataframe tbody tr th {\n",
       "        vertical-align: top;\n",
       "    }\n",
       "\n",
       "    .dataframe thead th {\n",
       "        text-align: right;\n",
       "    }\n",
       "</style>\n",
       "<table border=\"1\" class=\"dataframe\">\n",
       "  <thead>\n",
       "    <tr style=\"text-align: right;\">\n",
       "      <th></th>\n",
       "      <th>first</th>\n",
       "      <th>last</th>\n",
       "    </tr>\n",
       "    <tr>\n",
       "      <th>email</th>\n",
       "      <th></th>\n",
       "      <th></th>\n",
       "    </tr>\n",
       "  </thead>\n",
       "  <tbody>\n",
       "    <tr>\n",
       "      <th>tugbayatilla@gmail.com</th>\n",
       "      <td>tugbay</td>\n",
       "      <td>atilla</td>\n",
       "    </tr>\n",
       "    <tr>\n",
       "      <th>katharina@essmann.de</th>\n",
       "      <td>kathi</td>\n",
       "      <td>essmann</td>\n",
       "    </tr>\n",
       "    <tr>\n",
       "      <th>leni@essmann.com</th>\n",
       "      <td>leni</td>\n",
       "      <td>essmann</td>\n",
       "    </tr>\n",
       "  </tbody>\n",
       "</table>\n",
       "</div>"
      ],
      "text/plain": [
       "                         first     last\n",
       "email                                  \n",
       "tugbayatilla@gmail.com  tugbay   atilla\n",
       "katharina@essmann.de     kathi  essmann\n",
       "leni@essmann.com          leni  essmann"
      ]
     },
     "execution_count": 9,
     "metadata": {},
     "output_type": "execute_result"
    }
   ],
   "source": [
    "df"
   ]
  },
  {
   "cell_type": "code",
   "execution_count": 10,
   "id": "4d2c7fde",
   "metadata": {},
   "outputs": [
    {
     "data": {
      "text/plain": [
       "Index(['tugbayatilla@gmail.com', 'katharina@essmann.de', 'leni@essmann.com'], dtype='object', name='email')"
      ]
     },
     "execution_count": 10,
     "metadata": {},
     "output_type": "execute_result"
    }
   ],
   "source": [
    "df.index"
   ]
  },
  {
   "cell_type": "code",
   "execution_count": 11,
   "id": "bfbdb6ef",
   "metadata": {},
   "outputs": [
    {
     "data": {
      "text/plain": [
       "first    tugbay\n",
       "last     atilla\n",
       "Name: tugbayatilla@gmail.com, dtype: object"
      ]
     },
     "execution_count": 11,
     "metadata": {},
     "output_type": "execute_result"
    }
   ],
   "source": [
    "# why this is usdf.eful\n",
    "# finding specific row by index :)\n",
    "\n",
    "df.loc['tugbayatilla@gmail.com']"
   ]
  },
  {
   "cell_type": "code",
   "execution_count": 12,
   "id": "8a857b28",
   "metadata": {},
   "outputs": [
    {
     "data": {
      "text/plain": [
       "'atilla'"
      ]
     },
     "execution_count": 12,
     "metadata": {},
     "output_type": "execute_result"
    }
   ],
   "source": [
    "df.loc['tugbayatilla@gmail.com', 'last']"
   ]
  },
  {
   "cell_type": "code",
   "execution_count": 14,
   "id": "b8507850",
   "metadata": {},
   "outputs": [
    {
     "data": {
      "text/plain": [
       "first    tugbay\n",
       "last     atilla\n",
       "Name: tugbayatilla@gmail.com, dtype: object"
      ]
     },
     "execution_count": 14,
     "metadata": {},
     "output_type": "execute_result"
    }
   ],
   "source": [
    "# if you wanna use interger indexes again, iloc is your friend\n",
    "df.iloc[0]"
   ]
  },
  {
   "cell_type": "code",
   "execution_count": 15,
   "id": "a332248d",
   "metadata": {},
   "outputs": [],
   "source": [
    "# if you think you messes up\n",
    "df.reset_index(inplace=True)"
   ]
  },
  {
   "cell_type": "code",
   "execution_count": 16,
   "id": "80852d20",
   "metadata": {},
   "outputs": [
    {
     "data": {
      "text/html": [
       "<div>\n",
       "<style scoped>\n",
       "    .dataframe tbody tr th:only-of-type {\n",
       "        vertical-align: middle;\n",
       "    }\n",
       "\n",
       "    .dataframe tbody tr th {\n",
       "        vertical-align: top;\n",
       "    }\n",
       "\n",
       "    .dataframe thead th {\n",
       "        text-align: right;\n",
       "    }\n",
       "</style>\n",
       "<table border=\"1\" class=\"dataframe\">\n",
       "  <thead>\n",
       "    <tr style=\"text-align: right;\">\n",
       "      <th></th>\n",
       "      <th>email</th>\n",
       "      <th>first</th>\n",
       "      <th>last</th>\n",
       "    </tr>\n",
       "  </thead>\n",
       "  <tbody>\n",
       "    <tr>\n",
       "      <th>0</th>\n",
       "      <td>tugbayatilla@gmail.com</td>\n",
       "      <td>tugbay</td>\n",
       "      <td>atilla</td>\n",
       "    </tr>\n",
       "    <tr>\n",
       "      <th>1</th>\n",
       "      <td>katharina@essmann.de</td>\n",
       "      <td>kathi</td>\n",
       "      <td>essmann</td>\n",
       "    </tr>\n",
       "    <tr>\n",
       "      <th>2</th>\n",
       "      <td>leni@essmann.com</td>\n",
       "      <td>leni</td>\n",
       "      <td>essmann</td>\n",
       "    </tr>\n",
       "  </tbody>\n",
       "</table>\n",
       "</div>"
      ],
      "text/plain": [
       "                    email   first     last\n",
       "0  tugbayatilla@gmail.com  tugbay   atilla\n",
       "1    katharina@essmann.de   kathi  essmann\n",
       "2        leni@essmann.com    leni  essmann"
      ]
     },
     "execution_count": 16,
     "metadata": {},
     "output_type": "execute_result"
    }
   ],
   "source": [
    "df"
   ]
  },
  {
   "cell_type": "code",
   "execution_count": null,
   "id": "199baca3",
   "metadata": {},
   "outputs": [],
   "source": []
  }
 ],
 "metadata": {
  "kernelspec": {
   "display_name": "Python 3 (ipykernel)",
   "language": "python",
   "name": "python3"
  },
  "language_info": {
   "codemirror_mode": {
    "name": "ipython",
    "version": 3
   },
   "file_extension": ".py",
   "mimetype": "text/x-python",
   "name": "python",
   "nbconvert_exporter": "python",
   "pygments_lexer": "ipython3",
   "version": "3.9.12"
  }
 },
 "nbformat": 4,
 "nbformat_minor": 5
}
