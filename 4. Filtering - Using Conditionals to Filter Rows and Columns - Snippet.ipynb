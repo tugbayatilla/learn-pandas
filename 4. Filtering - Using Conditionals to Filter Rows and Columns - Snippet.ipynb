{
 "cells": [
  {
   "cell_type": "markdown",
   "id": "5d8aca76",
   "metadata": {},
   "source": [
    "Filters"
   ]
  },
  {
   "cell_type": "markdown",
   "id": "738924e4",
   "metadata": {},
   "source": [
    "https://www.youtube.com/watch?v=Lw2rlcxScZY"
   ]
  },
  {
   "cell_type": "code",
   "execution_count": 1,
   "id": "ec673214",
   "metadata": {},
   "outputs": [],
   "source": [
    "people = {\n",
    "    \"first\":[\"tugbay\", \"kathi\", \"leni\"],\n",
    "    \"last\":[\"atilla\", \"essmann\", \"essmann\"],\n",
    "    \"email\":[\"tugbayatilla@gmail.com\", \"katharina@essmann.de\", \"leni@essmann.com\"]\n",
    "}"
   ]
  },
  {
   "cell_type": "code",
   "execution_count": 2,
   "id": "c6f9fc99",
   "metadata": {},
   "outputs": [],
   "source": [
    "import pandas as pd"
   ]
  },
  {
   "cell_type": "code",
   "execution_count": 3,
   "id": "24a77127",
   "metadata": {},
   "outputs": [],
   "source": [
    "df = pd.DataFrame(people)"
   ]
  },
  {
   "cell_type": "code",
   "execution_count": 4,
   "id": "5f536550",
   "metadata": {},
   "outputs": [
    {
     "data": {
      "text/html": [
       "<div>\n",
       "<style scoped>\n",
       "    .dataframe tbody tr th:only-of-type {\n",
       "        vertical-align: middle;\n",
       "    }\n",
       "\n",
       "    .dataframe tbody tr th {\n",
       "        vertical-align: top;\n",
       "    }\n",
       "\n",
       "    .dataframe thead th {\n",
       "        text-align: right;\n",
       "    }\n",
       "</style>\n",
       "<table border=\"1\" class=\"dataframe\">\n",
       "  <thead>\n",
       "    <tr style=\"text-align: right;\">\n",
       "      <th></th>\n",
       "      <th>first</th>\n",
       "      <th>last</th>\n",
       "      <th>email</th>\n",
       "    </tr>\n",
       "  </thead>\n",
       "  <tbody>\n",
       "    <tr>\n",
       "      <th>0</th>\n",
       "      <td>tugbay</td>\n",
       "      <td>atilla</td>\n",
       "      <td>tugbayatilla@gmail.com</td>\n",
       "    </tr>\n",
       "    <tr>\n",
       "      <th>1</th>\n",
       "      <td>kathi</td>\n",
       "      <td>essmann</td>\n",
       "      <td>katharina@essmann.de</td>\n",
       "    </tr>\n",
       "    <tr>\n",
       "      <th>2</th>\n",
       "      <td>leni</td>\n",
       "      <td>essmann</td>\n",
       "      <td>leni@essmann.com</td>\n",
       "    </tr>\n",
       "  </tbody>\n",
       "</table>\n",
       "</div>"
      ],
      "text/plain": [
       "    first     last                   email\n",
       "0  tugbay   atilla  tugbayatilla@gmail.com\n",
       "1   kathi  essmann    katharina@essmann.de\n",
       "2    leni  essmann        leni@essmann.com"
      ]
     },
     "execution_count": 4,
     "metadata": {},
     "output_type": "execute_result"
    }
   ],
   "source": [
    "df"
   ]
  },
  {
   "cell_type": "code",
   "execution_count": 5,
   "id": "e29cedf6",
   "metadata": {},
   "outputs": [
    {
     "data": {
      "text/plain": [
       "0    False\n",
       "1     True\n",
       "2     True\n",
       "Name: last, dtype: bool"
      ]
     },
     "execution_count": 5,
     "metadata": {},
     "output_type": "execute_result"
    }
   ],
   "source": [
    "df['last'] == 'essmann'\n",
    "# return Series only, it's a Filter Mask"
   ]
  },
  {
   "cell_type": "code",
   "execution_count": 7,
   "id": "26a78b37",
   "metadata": {},
   "outputs": [],
   "source": [
    "# we cannot use filter because it's reserved keyword in python :)\n",
    "# putting paranteses to support to reading easily\n",
    "filt = (df['last'] == 'essmann')"
   ]
  },
  {
   "cell_type": "code",
   "execution_count": 8,
   "id": "ebfc28e8",
   "metadata": {},
   "outputs": [
    {
     "data": {
      "text/html": [
       "<div>\n",
       "<style scoped>\n",
       "    .dataframe tbody tr th:only-of-type {\n",
       "        vertical-align: middle;\n",
       "    }\n",
       "\n",
       "    .dataframe tbody tr th {\n",
       "        vertical-align: top;\n",
       "    }\n",
       "\n",
       "    .dataframe thead th {\n",
       "        text-align: right;\n",
       "    }\n",
       "</style>\n",
       "<table border=\"1\" class=\"dataframe\">\n",
       "  <thead>\n",
       "    <tr style=\"text-align: right;\">\n",
       "      <th></th>\n",
       "      <th>first</th>\n",
       "      <th>last</th>\n",
       "      <th>email</th>\n",
       "    </tr>\n",
       "  </thead>\n",
       "  <tbody>\n",
       "    <tr>\n",
       "      <th>1</th>\n",
       "      <td>kathi</td>\n",
       "      <td>essmann</td>\n",
       "      <td>katharina@essmann.de</td>\n",
       "    </tr>\n",
       "    <tr>\n",
       "      <th>2</th>\n",
       "      <td>leni</td>\n",
       "      <td>essmann</td>\n",
       "      <td>leni@essmann.com</td>\n",
       "    </tr>\n",
       "  </tbody>\n",
       "</table>\n",
       "</div>"
      ],
      "text/plain": [
       "   first     last                 email\n",
       "1  kathi  essmann  katharina@essmann.de\n",
       "2   leni  essmann      leni@essmann.com"
      ]
     },
     "execution_count": 8,
     "metadata": {},
     "output_type": "execute_result"
    }
   ],
   "source": [
    "df[filt]"
   ]
  },
  {
   "cell_type": "code",
   "execution_count": 9,
   "id": "2575315a",
   "metadata": {},
   "outputs": [
    {
     "data": {
      "text/html": [
       "<div>\n",
       "<style scoped>\n",
       "    .dataframe tbody tr th:only-of-type {\n",
       "        vertical-align: middle;\n",
       "    }\n",
       "\n",
       "    .dataframe tbody tr th {\n",
       "        vertical-align: top;\n",
       "    }\n",
       "\n",
       "    .dataframe thead th {\n",
       "        text-align: right;\n",
       "    }\n",
       "</style>\n",
       "<table border=\"1\" class=\"dataframe\">\n",
       "  <thead>\n",
       "    <tr style=\"text-align: right;\">\n",
       "      <th></th>\n",
       "      <th>first</th>\n",
       "      <th>last</th>\n",
       "      <th>email</th>\n",
       "    </tr>\n",
       "  </thead>\n",
       "  <tbody>\n",
       "    <tr>\n",
       "      <th>1</th>\n",
       "      <td>kathi</td>\n",
       "      <td>essmann</td>\n",
       "      <td>katharina@essmann.de</td>\n",
       "    </tr>\n",
       "    <tr>\n",
       "      <th>2</th>\n",
       "      <td>leni</td>\n",
       "      <td>essmann</td>\n",
       "      <td>leni@essmann.com</td>\n",
       "    </tr>\n",
       "  </tbody>\n",
       "</table>\n",
       "</div>"
      ],
      "text/plain": [
       "   first     last                 email\n",
       "1  kathi  essmann  katharina@essmann.de\n",
       "2   leni  essmann      leni@essmann.com"
      ]
     },
     "execution_count": 9,
     "metadata": {},
     "output_type": "execute_result"
    }
   ],
   "source": [
    "# or\n",
    "df[df['last'] == 'essmann']"
   ]
  },
  {
   "cell_type": "code",
   "execution_count": 11,
   "id": "aecca33b",
   "metadata": {},
   "outputs": [
    {
     "data": {
      "text/html": [
       "<div>\n",
       "<style scoped>\n",
       "    .dataframe tbody tr th:only-of-type {\n",
       "        vertical-align: middle;\n",
       "    }\n",
       "\n",
       "    .dataframe tbody tr th {\n",
       "        vertical-align: top;\n",
       "    }\n",
       "\n",
       "    .dataframe thead th {\n",
       "        text-align: right;\n",
       "    }\n",
       "</style>\n",
       "<table border=\"1\" class=\"dataframe\">\n",
       "  <thead>\n",
       "    <tr style=\"text-align: right;\">\n",
       "      <th></th>\n",
       "      <th>first</th>\n",
       "      <th>last</th>\n",
       "      <th>email</th>\n",
       "    </tr>\n",
       "  </thead>\n",
       "  <tbody>\n",
       "    <tr>\n",
       "      <th>1</th>\n",
       "      <td>kathi</td>\n",
       "      <td>essmann</td>\n",
       "      <td>katharina@essmann.de</td>\n",
       "    </tr>\n",
       "    <tr>\n",
       "      <th>2</th>\n",
       "      <td>leni</td>\n",
       "      <td>essmann</td>\n",
       "      <td>leni@essmann.com</td>\n",
       "    </tr>\n",
       "  </tbody>\n",
       "</table>\n",
       "</div>"
      ],
      "text/plain": [
       "   first     last                 email\n",
       "1  kathi  essmann  katharina@essmann.de\n",
       "2   leni  essmann      leni@essmann.com"
      ]
     },
     "execution_count": 11,
     "metadata": {},
     "output_type": "execute_result"
    }
   ],
   "source": [
    "#or, we were using loc to locate data but now we are filtering as well.\n",
    "df.loc[filt]"
   ]
  },
  {
   "cell_type": "code",
   "execution_count": 13,
   "id": "9d883694",
   "metadata": {},
   "outputs": [
    {
     "data": {
      "text/plain": [
       "1    katharina@essmann.de\n",
       "2        leni@essmann.com\n",
       "Name: email, dtype: object"
      ]
     },
     "execution_count": 13,
     "metadata": {},
     "output_type": "execute_result"
    }
   ],
   "source": [
    "# filter and get only email\n",
    "df.loc[filt, 'email']"
   ]
  },
  {
   "cell_type": "code",
   "execution_count": 16,
   "id": "57a614b3",
   "metadata": {},
   "outputs": [],
   "source": [
    "# and & , or | using in filters\n",
    "\n",
    "filtWithAnd = (df['last'] == 'essmann') & (df['first'] == 'leni')"
   ]
  },
  {
   "cell_type": "code",
   "execution_count": 17,
   "id": "eeb2dfd3",
   "metadata": {},
   "outputs": [
    {
     "data": {
      "text/plain": [
       "2    leni@essmann.com\n",
       "Name: email, dtype: object"
      ]
     },
     "execution_count": 17,
     "metadata": {},
     "output_type": "execute_result"
    }
   ],
   "source": [
    "df.loc[filtWithAnd, 'email']"
   ]
  },
  {
   "cell_type": "code",
   "execution_count": 18,
   "id": "ff3ffc26",
   "metadata": {},
   "outputs": [],
   "source": [
    "filtWithOr = (df['last'] == 'essmann') | (df['first'] == 'leni')"
   ]
  },
  {
   "cell_type": "code",
   "execution_count": 19,
   "id": "37e48d6a",
   "metadata": {},
   "outputs": [
    {
     "data": {
      "text/plain": [
       "1    katharina@essmann.de\n",
       "2        leni@essmann.com\n",
       "Name: email, dtype: object"
      ]
     },
     "execution_count": 19,
     "metadata": {},
     "output_type": "execute_result"
    }
   ],
   "source": [
    "df.loc[filtWithOr, 'email']"
   ]
  },
  {
   "cell_type": "code",
   "execution_count": 20,
   "id": "82689499",
   "metadata": {},
   "outputs": [
    {
     "data": {
      "text/plain": [
       "0    tugbayatilla@gmail.com\n",
       "Name: email, dtype: object"
      ]
     },
     "execution_count": 20,
     "metadata": {},
     "output_type": "execute_result"
    }
   ],
   "source": [
    "# filter opposition - did not match with Tilda sign ~\n",
    "df.loc[~filtWithOr, 'email']"
   ]
  },
  {
   "cell_type": "code",
   "execution_count": null,
   "id": "455a7908",
   "metadata": {},
   "outputs": [],
   "source": []
  }
 ],
 "metadata": {
  "kernelspec": {
   "display_name": "Python 3 (ipykernel)",
   "language": "python",
   "name": "python3"
  },
  "language_info": {
   "codemirror_mode": {
    "name": "ipython",
    "version": 3
   },
   "file_extension": ".py",
   "mimetype": "text/x-python",
   "name": "python",
   "nbconvert_exporter": "python",
   "pygments_lexer": "ipython3",
   "version": "3.9.12"
  }
 },
 "nbformat": 4,
 "nbformat_minor": 5
}
